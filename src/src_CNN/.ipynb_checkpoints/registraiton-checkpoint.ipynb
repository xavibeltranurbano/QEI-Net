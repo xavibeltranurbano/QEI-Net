{
 "cells": [
  {
   "cell_type": "code",
   "execution_count": 23,
   "id": "5171312e-d1c4-4c4f-b915-64cad0d2eab6",
   "metadata": {},
   "outputs": [],
   "source": [
    "import nibabel as nib\n",
    "import SimpleITK as sitk\n",
    "import numpy as np\n",
    "\n",
    "def load_nifti_image(path):\n",
    "    \"\"\"Load a NIfTI image using nibabel.\"\"\"\n",
    "    nifti_img = nib.load(path)\n",
    "    data = nifti_img.get_fdata()\n",
    "    return data, nifti_img.affine\n",
    "    \n",
    "def save_nifti_image(data, affine, output_path):\n",
    "    \"\"\"Save a numpy array as a NIfTI image.\"\"\"\n",
    "    new_img = nib.Nifti1Image(data, affine)\n",
    "    nib.save(new_img, output_path)\n",
    "\n",
    "def resample_image(image, new_size, new_spacing):\n",
    "    \"\"\"Resample the image to a new size and spacing using SimpleITK.\"\"\"\n",
    "    resampler = sitk.ResampleImageFilter()\n",
    "    orig_size = np.array(image.GetSize(), dtype=np.float64)\n",
    "    orig_spacing = image.GetSpacing()\n",
    "    \n",
    "    resampler.SetSize(new_size.tolist())\n",
    "    resampler.SetOutputSpacing(new_spacing)\n",
    "    \n",
    "    # Compute the new origin point\n",
    "    new_origin = np.array(image.GetOrigin()) + (orig_spacing - new_spacing) * orig_size / 2.0\n",
    "    resampler.SetOutputOrigin(new_origin.tolist())\n",
    "    \n",
    "    # Use an affine transform with default parameters (identity)\n",
    "    transform = sitk.AffineTransform(3)\n",
    "    resampler.SetTransform(transform)\n",
    "    \n",
    "    # Use linear interpolation\n",
    "    resampler.SetInterpolator(sitk.sitkLinear)\n",
    "    \n",
    "    return resampler.Execute(image)\n",
    "\n",
    "def register_nifti_to_size(image_path,output_path, target_size=(64, 64, 25)):\n",
    "    # Load the image\n",
    "    image_data, affine = load_nifti_image(image_path)\n",
    "    image_sitk = sitk.GetImageFromArray(np.transpose(image_data))\n",
    "    \n",
    "    # Calculate new spacing based on target size\n",
    "    original_size = np.array(image_sitk.GetSize(), dtype=np.float64)\n",
    "    original_spacing = np.array(image_sitk.GetSpacing())\n",
    "    \n",
    "    new_spacing = original_size / target_size * original_spacing\n",
    "    \n",
    "    # Resample the image\n",
    "    resampled_image = resample_image(image_sitk, np.array(target_size), new_spacing)\n",
    "    \n",
    "    # Convert the resampled SimpleITK image to a NumPy array if needed\n",
    "    resampled_array = sitk.GetArrayFromImage(resampled_image)\n",
    "    resampled_array_transposed = np.transpose(resampled_array, (2, 1, 0))  # XYZ for nibabel\n",
    "    \n",
    "    # Save the resampled image\n",
    "    save_nifti_image(resampled_array_transposed, affine, output_path)\n",
    "    return resampled_array_transposed\n"
   ]
  },
  {
   "cell_type": "code",
   "execution_count": 24,
   "id": "b1d5337f-ed58-40d6-9f87-401bb3f6e0ca",
   "metadata": {},
   "outputs": [
    {
     "name": "stdout",
     "output_type": "stream",
     "text": [
      "Defaulting to user installation because normal site-packages is not writeable\n",
      "Requirement already satisfied: SimpleITK in /home/xurbano/.local/lib/python3.10/site-packages (2.3.1)\n",
      "Note: you may need to restart the kernel to use updated packages.\n"
     ]
    }
   ],
   "source": [
    "pip install SimpleITK"
   ]
  },
  {
   "cell_type": "code",
   "execution_count": 25,
   "id": "3a905024-96c4-4b4c-8db5-99515531fb29",
   "metadata": {},
   "outputs": [
    {
     "name": "stdout",
     "output_type": "stream",
     "text": [
      "(64, 64, 25)\n"
     ]
    }
   ],
   "source": [
    "# Example usage\n",
    "image_path = '/home/xurbano/QEI-ASL/data/ASL_1/CBF_Map.nii'\n",
    "output_path='/home/xurbano/QEI-ASL/data/ASL_1/CBF_Map_reshaped.nii'\n",
    "resized_image = register_nifti_to_size(image_path,output_path)\n",
    "print(resized_image.shape)\n"
   ]
  },
  {
   "cell_type": "code",
   "execution_count": null,
   "id": "462b0d81-ac0f-43b3-a6d9-159021d6507d",
   "metadata": {},
   "outputs": [],
   "source": []
  }
 ],
 "metadata": {
  "kernelspec": {
   "display_name": "Python 3 (ipykernel)",
   "language": "python",
   "name": "python3"
  },
  "language_info": {
   "codemirror_mode": {
    "name": "ipython",
    "version": 3
   },
   "file_extension": ".py",
   "mimetype": "text/x-python",
   "name": "python",
   "nbconvert_exporter": "python",
   "pygments_lexer": "ipython3",
   "version": "3.10.12"
  }
 },
 "nbformat": 4,
 "nbformat_minor": 5
}
