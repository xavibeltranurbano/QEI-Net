{
 "cells": [
  {
   "cell_type": "code",
   "execution_count": 118,
   "id": "77ddad32-af98-487d-ae49-98c099765916",
   "metadata": {},
   "outputs": [
    {
     "name": "stdout",
     "output_type": "stream",
     "text": [
      "Defaulting to user installation because normal site-packages is not writeable\n",
      "Requirement already satisfied: nibabel in /home/xurbano/.local/lib/python3.10/site-packages (5.2.1)\n",
      "Requirement already satisfied: packaging>=17 in /home/xurbano/.local/lib/python3.10/site-packages (from nibabel) (23.2)\n",
      "Requirement already satisfied: numpy>=1.20 in /home/xurbano/.local/lib/python3.10/site-packages (from nibabel) (1.24.0)\n"
     ]
    }
   ],
   "source": [
    "!pip install nibabel\n",
    "import nibabel as nib\n",
    "import numpy as np\n",
    "import os\n",
    "import matplotlib.pyplot as plt\n",
    "import scipy\n",
    "from scipy.stats import pearsonr,kurtosis, entropy"
   ]
  },
  {
   "cell_type": "code",
   "execution_count": 79,
   "id": "72543180-786d-4275-aaa1-062102616dd8",
   "metadata": {},
   "outputs": [],
   "source": [
    "CBF=nib.load('/home/xurbano/QEI-ASL/data/ASL_001_Smoking_MRQ0885S2_Abstinence/Robayes_Bisquare_41_cbfsM0_0_rperfusion_MRQ0885S2_4D.nii').get_fdata()\n",
    "GM_prob=nib.load('/home/xurbano/QEI-ASL/data/ASL_001_Smoking_MRQ0885S2_Abstinence/rbk_c1mprage_MRQ0885S2.nii').get_fdata()\n",
    "CSF_prob=nib.load('/home/xurbano/QEI-ASL/data/ASL_001_Smoking_MRQ0885S2_Abstinence/rbk_c3mprage_MRQ0885S2.nii').get_fdata()\n",
    "WM_prob=nib.load('/home/xurbano/QEI-ASL/data/ASL_001_Smoking_MRQ0885S2_Abstinence/rbk_c2mprage_MRQ0885S2.nii').get_fdata()\n",
    "#prova=np.stack([GM_prob, CSF_prob, WM_prob], axis=-1)\n",
    "#BrainTissue=np.argmax(prova, axis=-1)+1\n",
    "GM_Mask=np.where(GM_prob>0.9,1,0)\n",
    "CSF_Mask=np.where(CSF_prob>0.9,1,0)\n",
    "WM_Mask=np.where(WM_prob>0.9,1,0)"
   ]
  },
  {
   "cell_type": "markdown",
   "id": "7b4a5bf5-3819-4572-8e1f-b79bf1cdf815",
   "metadata": {},
   "source": [
    "1) SNR"
   ]
  },
  {
   "cell_type": "code",
   "execution_count": 94,
   "id": "6d4a5c06-b581-4ebe-b26e-8a6b32b70e03",
   "metadata": {},
   "outputs": [
    {
     "name": "stdout",
     "output_type": "stream",
     "text": [
      "SNR: 1.6377953457605152\n"
     ]
    }
   ],
   "source": [
    "mean_GM=np.mean(CBF[GM_Mask==1])\n",
    "std_CSF=np.std(CBF[CSF_Mask==1])\n",
    "SNR=mean_GM/std_CSF\n",
    "print(f\"SNR: {SNR}\")"
   ]
  },
  {
   "cell_type": "markdown",
   "id": "78ffff5d-5e79-443c-b365-48b9c08039f0",
   "metadata": {},
   "source": [
    "2) Similarity to structural images"
   ]
  },
  {
   "cell_type": "code",
   "execution_count": 95,
   "id": "67b87db1-c86a-4121-a52d-905ff6339459",
   "metadata": {},
   "outputs": [
    {
     "name": "stdout",
     "output_type": "stream",
     "text": [
      "Structural Pseudo-CBF: (0.7621481497520304, 0.0)\n"
     ]
    }
   ],
   "source": [
    "spCBF=GM_prob*2.5 + WM_prob\n",
    "Pearson_Correlation=pearsonr(CBF.flatten(),spCBF.flatten())\n",
    "print(f\"Structural Pseudo-CBF: {Pearson_Correlation}\")"
   ]
  },
  {
   "cell_type": "markdown",
   "id": "8b6cf394-0d9c-4bb1-aa32-4ef06d5fe184",
   "metadata": {},
   "source": [
    "3) Within GM ASL CBF Heterogeneity"
   ]
  },
  {
   "cell_type": "code",
   "execution_count": 96,
   "id": "6e5e1d03-a581-4f9f-987d-d831e54b2ac8",
   "metadata": {},
   "outputs": [
    {
     "name": "stdout",
     "output_type": "stream",
     "text": [
      "Coefficient of Variation: 0.5042089921294207\n"
     ]
    }
   ],
   "source": [
    "Coef_Variation=np.std(CBF[GM_Mask==1])/np.mean(CBF[GM_Mask==1])\n",
    "print(f\"Coefficient of Variation: {Coef_Variation}\")"
   ]
  },
  {
   "cell_type": "markdown",
   "id": "0f7eaeb0-362d-4bd9-aee9-df58f0abe614",
   "metadata": {},
   "source": [
    "4) Physiologic validity of ASL GM CBF"
   ]
  },
  {
   "cell_type": "code",
   "execution_count": 97,
   "id": "9629e069-365d-4826-8747-a2242a5f7c4c",
   "metadata": {},
   "outputs": [
    {
     "name": "stdout",
     "output_type": "stream",
     "text": [
      "Percentage of GM>0: 95.33826475574048\n"
     ]
    }
   ],
   "source": [
    "totalVoxels=np.sum(GM_Mask==1)\n",
    "positiveVoxels=np.sum(CBF[GM_Mask==1]>0)\n",
    "Percentage_Positive_GM=(positiveVoxels/totalVoxels)*100\n",
    "print(f\"Percentage of GM>0: {Percentage_Positive_GM}\")"
   ]
  },
  {
   "cell_type": "markdown",
   "id": "7f56de19-ea74-414b-9017-d2d316318458",
   "metadata": {},
   "source": [
    "5) Image Sharpness"
   ]
  },
  {
   "cell_type": "code",
   "execution_count": null,
   "id": "267eb4b4-7eb2-40f1-b408-57561e0a1263",
   "metadata": {},
   "outputs": [],
   "source": [
    "# Define the command you would run in the terminal\n",
    "cmd = \"/home/xurbano/QEI-ASL/src_features_approach/afni_proc.pyafni_proc.py -subj_id subject1 -dsets mydata.nii ...\"\n",
    "\n",
    "# Run the command\n",
    "subprocess.run(cmd, shell=True)"
   ]
  },
  {
   "cell_type": "markdown",
   "id": "a9d32012-7fff-4cfe-97ce-99fab98fe4c4",
   "metadata": {},
   "source": [
    "6) Statistics mean, std, 5th and 95 percentile, kurtosis"
   ]
  },
  {
   "cell_type": "code",
   "execution_count": 116,
   "id": "dde048ba-09a1-498e-98c6-de1a828d16da",
   "metadata": {},
   "outputs": [
    {
     "name": "stdout",
     "output_type": "stream",
     "text": [
      "GM Mean CBF: 54.16646763384781\n",
      "GM Inverse Std Dev CBF: 0.03661498820133429\n",
      "GM 5th Percentile CBF: 2.2105077624320995\n",
      "GM 95th Percentile CBF: 96.2128234863281\n",
      "GM Kurtosis CBF: 0.6009413627180225\n",
      "\n",
      "WM Mean CBF: 24.906988046970174\n",
      "WM Inverse Std Dev CBF: 0.03832960008239716\n",
      "WM 5th Percentile CBF: -13.533043336868285\n",
      "WM 95th Percentile CBF: 71.97222862243649\n",
      "WM Kurtosis CBF: 0.24876769217873784\n"
     ]
    }
   ],
   "source": [
    "# GM Statistics\n",
    "mean_GM=np.mean(CBF[GM_Mask==1])\n",
    "inverseStd_GM= 1 / np.std(CBF[GM_Mask==1])\n",
    "five_Percentile_GM=np.percentile(CBF[GM_Mask==1], 5)\n",
    "ninetyFive_Percentile_GM= np.percentile(CBF[GM_Mask==1], 95)\n",
    "kurtosis_GM= kurtosis(CBF[GM_Mask==1])\n",
    "# Print GM Statistics\n",
    "print(f\"GM Mean CBF: {mean_GM}\")\n",
    "print(f\"GM Inverse Std Dev CBF: {inverseStd_GM}\")\n",
    "print(f\"GM 5th Percentile CBF: {five_Percentile_GM}\")\n",
    "print(f\"GM 95th Percentile CBF: {ninetyFive_Percentile_GM}\")\n",
    "print(f\"GM Kurtosis CBF: {kurtosis_GM}\")\n",
    "# WM Statistics\n",
    "mean_WM=np.mean(CBF[WM_Mask==1])\n",
    "inverseStd_WM= 1 / np.std(CBF[WM_Mask==1])\n",
    "five_Percentile_WM=np.percentile(CBF[WM_Mask==1], 5)\n",
    "ninetyFive_Percentile_WM= np.percentile(CBF[WM_Mask==1], 95)\n",
    "kurtosis_WM = kurtosis(CBF[WM_Mask==1])\n",
    "# Print WM Statistics\n",
    "print(f\"\\nWM Mean CBF: {mean_WM}\")\n",
    "print(f\"WM Inverse Std Dev CBF: {inverseStd_WM}\")\n",
    "print(f\"WM 5th Percentile CBF: {five_Percentile_WM}\")\n",
    "print(f\"WM 95th Percentile CBF: {ninetyFive_Percentile_WM}\")\n",
    "print(f\"WM Kurtosis CBF: {kurtosis_WM}\")"
   ]
  },
  {
   "cell_type": "markdown",
   "id": "619e79da-ffc4-42f5-9a89-905a6f832ba1",
   "metadata": {},
   "source": [
    "7) Shanon Entropy"
   ]
  },
  {
   "cell_type": "code",
   "execution_count": 121,
   "id": "79c4fff3-3720-4ba8-9c79-184772a45d3c",
   "metadata": {},
   "outputs": [
    {
     "name": "stdout",
     "output_type": "stream",
     "text": [
      "Shanon Entropy of the CBF: 4.355318574480714\n"
     ]
    }
   ],
   "source": [
    "values, counts = np.unique(CBF, return_counts=True)\n",
    "probabilities = counts / counts.sum()\n",
    "Shanon_Entropy=entropy(probabilities, base=2)\n",
    "print(f\"Shanon Entropy of the CBF: {Shanon_Entropy}\")"
   ]
  },
  {
   "cell_type": "markdown",
   "id": "44422432-6218-4a19-ab80-d195fca8abc6",
   "metadata": {},
   "source": [
    "8) Spatial Gradients"
   ]
  },
  {
   "cell_type": "code",
   "execution_count": 131,
   "id": "5f9f401a-b6fa-47bf-9013-1fb73cc130d6",
   "metadata": {},
   "outputs": [
    {
     "name": "stdout",
     "output_type": "stream",
     "text": [
      "Variance of Inverse Gradient (X-axis): 86.95574294608998\n",
      "Variance of Inverse Gradient (Y-axis): 27740.455893362443\n",
      "Variance of Inverse Gradient (Z-axis): 725.4808869282222\n"
     ]
    }
   ],
   "source": [
    "# Compute the Gradients\n",
    "grad_x, grad_y, grad_z = np.gradient(CBF, axis=(0, 1, 2))\n",
    "#Inverse the gradients \n",
    "inv_grad_x = 1 / np.where(grad_x != 0, grad_x, np.nan)\n",
    "inv_grad_y = 1 / np.where(grad_y != 0, grad_y, np.nan)\n",
    "inv_grad_z = 1 / np.where(grad_z != 0, grad_z, np.nan)\n",
    "\n",
    "# Variance of the gradients\n",
    "var_inv_grad_x = np.nanvar(inv_grad_x)\n",
    "var_inv_grad_y = np.nanvar(inv_grad_y)\n",
    "var_inv_grad_z = np.nanvar(inv_grad_z)\n",
    "\n",
    "print(f\"Variance of Inverse Gradient (X-axis): {var_inv_grad_x}\")\n",
    "print(f\"Variance of Inverse Gradient (Y-axis): {var_inv_grad_y}\")\n",
    "print(f\"Variance of Inverse Gradient (Z-axis): {var_inv_grad_z}\")"
   ]
  }
 ],
 "metadata": {
  "kernelspec": {
   "display_name": "Python 3 (ipykernel)",
   "language": "python",
   "name": "python3"
  },
  "language_info": {
   "codemirror_mode": {
    "name": "ipython",
    "version": 3
   },
   "file_extension": ".py",
   "mimetype": "text/x-python",
   "name": "python",
   "nbconvert_exporter": "python",
   "pygments_lexer": "ipython3",
   "version": "3.10.12"
  }
 },
 "nbformat": 4,
 "nbformat_minor": 5
}
